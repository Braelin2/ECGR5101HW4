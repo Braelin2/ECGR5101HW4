{
  "nbformat": 4,
  "nbformat_minor": 0,
  "metadata": {
    "colab": {
      "provenance": [],
      "authorship_tag": "ABX9TyOgzJtPtyBNNKunY2v7mZmd",
      "include_colab_link": true
    },
    "kernelspec": {
      "name": "python3",
      "display_name": "Python 3"
    },
    "language_info": {
      "name": "python"
    }
  },
  "cells": [
    {
      "cell_type": "markdown",
      "metadata": {
        "id": "view-in-github",
        "colab_type": "text"
      },
      "source": [
        "<a href=\"https://colab.research.google.com/github/Braelin2/ECGR5101HW4/blob/main/5105_HW4_Q2.ipynb\" target=\"_parent\"><img src=\"https://colab.research.google.com/assets/colab-badge.svg\" alt=\"Open In Colab\"/></a>"
      ]
    },
    {
      "cell_type": "code",
      "execution_count": 1,
      "metadata": {
        "colab": {
          "base_uri": "https://localhost:8080/"
        },
        "id": "sj3gFcY3UuC5",
        "outputId": "937fa7b9-4399-4e1c-e690-58684a1eebf1"
      },
      "outputs": [
        {
          "output_type": "stream",
          "name": "stdout",
          "text": [
            "Mounted at /content/drive\n"
          ]
        }
      ],
      "source": [
        "import numpy as np\n",
        "import pandas as pd\n",
        "import matplotlib.pyplot as plt\n",
        "import seaborn as sns\n",
        "\n",
        "from google.colab import drive\n",
        "drive.mount('/content/drive')"
      ]
    },
    {
      "cell_type": "code",
      "source": [
        "file_path = '/content/drive/My Drive/ECGR5105/Housing.csv'\n",
        "dataset = pd.DataFrame(pd.read_csv(file_path))"
      ],
      "metadata": {
        "id": "EMn9zMWVU9Zc"
      },
      "execution_count": 2,
      "outputs": []
    },
    {
      "cell_type": "code",
      "source": [
        "convlist =  ['mainroad', 'guestroom', 'basement', 'hotwaterheating', 'airconditioning', 'prefarea']\n",
        "\n",
        "# Defining the map function\n",
        "def binary_map(x):\n",
        "    return x.map({'yes': 1, 'no': 0})\n",
        "\n",
        "# Applying the function to the housing list\n",
        "dataset[convlist] = dataset[convlist].apply(binary_map)"
      ],
      "metadata": {
        "id": "1MLtAWYTVFzN"
      },
      "execution_count": 3,
      "outputs": []
    },
    {
      "cell_type": "code",
      "source": [
        "from sklearn.model_selection import train_test_split\n",
        "from sklearn.preprocessing import StandardScaler\n",
        "\n",
        "std = StandardScaler()\n",
        "\n",
        "np.random.seed(0)\n",
        "X_train_temp, X_test_temp = train_test_split(dataset, train_size = 0.8, test_size = 0.2, random_state = 100)\n",
        "\n",
        "varlist = ['area', 'bedrooms', 'bathrooms', 'stories', 'mainroad', 'guestroom', 'basement', 'hotwaterheating', 'airconditioning', 'parking', 'prefarea']\n",
        "\n",
        "Y_train = X_train_temp['price']\n",
        "Y_test = X_test_temp['price']\n",
        "\n",
        "num_train = len(Y_train)\n",
        "num_test = len(Y_test)\n",
        "\n",
        "X_train = np.c_[np.ones((num_train, 1)), X_train_temp[varlist]]\n",
        "X_test = np.c_[np.ones((num_test, 1)), X_test_temp[varlist]]\n",
        "\n",
        "X_train = std.fit_transform(X_train)\n",
        "X_test = std.fit_transform(X_test)"
      ],
      "metadata": {
        "id": "I6PdFrHBVOF2"
      },
      "execution_count": 5,
      "outputs": []
    },
    {
      "cell_type": "code",
      "source": [
        "#setting up a function for PCA reduction\n",
        "def pcaRedux(x_train,x_test,k):\n",
        "  pca = PCA(n_components = k)\n",
        "  x_train1 = pca.fit_transform(x_train)\n",
        "  x_test1 = pca.fit_transform(x_test)\n",
        "  return x_train1,x_test1"
      ],
      "metadata": {
        "id": "3D8ZqMnjtBJ1"
      },
      "execution_count": 7,
      "outputs": []
    },
    {
      "cell_type": "code",
      "source": [
        "from sklearn.decomposition import PCA\n",
        "from sklearn.linear_model import LogisticRegression\n",
        "from sklearn.metrics import confusion_matrix\n",
        "from sklearn.naive_bayes import GaussianNB\n",
        "from sklearn.metrics import mean_squared_error\n",
        "from sklearn.svm import SVR\n",
        "from sklearn import metrics\n",
        "from sklearn.svm import SVC\n",
        "\n",
        "# Polynomial kernel SVR\n",
        "poly_svr = SVR(kernel='poly', degree=2, C=1E3)\n",
        "poly_svr.fit(X_train, Y_train)\n",
        "Y_prediction_poly = poly_svr.predict(X_test)\n",
        "\n",
        "mse_poly = mean_squared_error(Y_test, Y_prediction_poly)\n",
        "\n",
        "print(f'Polynomial Kernel MSE Loss: {mse_poly}')\n",
        "\n",
        "# Linear kernel SVR\n",
        "linear_svr = SVR(kernel='linear', C=1E3)\n",
        "linear_svr.fit(X_train, Y_train)\n",
        "Y_prediction_linear = linear_svr.predict(X_test)\n",
        "\n",
        "mse_linear = mean_squared_error(Y_test, Y_prediction_linear)\n",
        "\n",
        "print(f'Linear Kernel MSE Loss: {mse_linear}')\n",
        "\n",
        "# RBF kernel SVR\n",
        "rbf_svr = SVR(kernel='rbf', C=1E3)\n",
        "rbf_svr.fit(X_train, Y_train)\n",
        "Y_prediction_rbf = rbf_svr.predict(X_test)\n",
        "\n",
        "mse_rbf = mean_squared_error(Y_test, Y_prediction_rbf)\n",
        "\n",
        "print(f'RBF Kernel MSE Loss: {mse_rbf}')\n",
        "\n",
        "# Sigmoid kernel SVR\n",
        "sigmod_svr = SVR(kernel='sigmoid', C=1E3)\n",
        "sigmod_svr.fit(X_train, Y_train)\n",
        "Y_prediction_sigmoid = sigmod_svr.predict(X_test)\n",
        "\n",
        "mse_sigmoid = mean_squared_error(Y_test, Y_prediction_sigmoid)\n",
        "\n",
        "print(f'Sigmoid Kernel MSE Loss: {mse_sigmoid}')"
      ],
      "metadata": {
        "colab": {
          "base_uri": "https://localhost:8080/"
        },
        "id": "fEmcesd6qX9x",
        "outputId": "91fff786-5aea-479a-c470-6d70ebdc0bed"
      },
      "execution_count": 6,
      "outputs": [
        {
          "output_type": "stream",
          "name": "stdout",
          "text": [
            "Polynomial Kernel MSE Loss: 3614028333295.208\n",
            "Linear Kernel MSE Loss: 2136878967470.7505\n",
            "RBF Kernel MSE Loss: 3555230059536.649\n",
            "Sigmoid Kernel MSE Loss: 3448214559055.742\n"
          ]
        }
      ]
    },
    {
      "cell_type": "code",
      "source": [
        "#Initialize a very large dummy loss value\n",
        "smallest_loss = 1000000000000000000\n",
        "loss_array = []\n",
        "k_vals = []\n",
        "\n",
        "for k in range(1,12):\n",
        "  x_train1, x_test1 = pcaRedux(X_train,X_test,k)\n",
        "  linear_svr = SVR(kernel='linear', C=1E3)\n",
        "  linear_svr.fit(x_train1,Y_train)\n",
        "  y_prediction_linear = linear_svr.predict(x_test1)\n",
        "\n",
        "  k_vals.append(k)\n",
        "  loss_array.append(mean_squared_error(Y_test, y_prediction_linear))\n",
        "\n",
        "  if(mean_squared_error(Y_test, y_prediction_linear) < smallest_loss):\n",
        "    smallest_loss = mean_squared_error(Y_test, y_prediction_linear)\n",
        "    best_k = k\n",
        "\n",
        "print(\"Best K value is: \", best_k)\n",
        "print(\"Smallest Loss is: \", smallest_loss)\n",
        "\n",
        "X_train_pca, X_test_pca = pcaRedux(X_train,X_test, best_k)\n",
        "\n",
        "# Polynomial kernel SVR\n",
        "poly_svr_pca = SVR(kernel='poly', degree=2, C=1E3)\n",
        "poly_svr_pca.fit(X_train_pca, Y_train)\n",
        "Y_prediction_poly_pca = poly_svr_pca.predict(X_test_pca)\n",
        "\n",
        "mse_poly_pca = mean_squared_error(Y_test, Y_prediction_poly_pca)\n",
        "\n",
        "print(f'Polynomial MSE Loss: {mse_poly_pca}')\n",
        "\n",
        "# Linear kernel SVR\n",
        "linear_svr_pca = SVR(kernel='linear', C=1E3)\n",
        "linear_svr_pca.fit(X_train_pca, Y_train)\n",
        "Y_prediction_linear_pca = linear_svr_pca.predict(X_test_pca)\n",
        "\n",
        "mse_linear_pca = mean_squared_error(Y_test, Y_prediction_linear_pca)\n",
        "\n",
        "print(f'Linear MSE Loss: {mse_linear_pca}')\n",
        "\n",
        "# RBF kernel SVR\n",
        "rbf_svr_pca = SVR(kernel='rbf', C=1E3)\n",
        "rbf_svr_pca.fit(X_train_pca, Y_train)\n",
        "Y_prediction_rbf_pca = rbf_svr_pca.predict(X_test_pca)\n",
        "\n",
        "mse_rbf_pca = mean_squared_error(Y_test, Y_prediction_rbf_pca)\n",
        "\n",
        "print(f'RBF MSE Loss: {mse_rbf_pca}')\n",
        "\n",
        "# Sigmoid kernel SVR\n",
        "sigmod_svr_pca = SVR(kernel='sigmoid', C=1E3)\n",
        "sigmod_svr_pca.fit(X_train_pca, Y_train)\n",
        "Y_prediction_sigmoid_pca = sigmod_svr_pca.predict(X_test_pca)\n",
        "\n",
        "mse_sigmoid_pca = mean_squared_error(Y_test, Y_prediction_sigmoid_pca)\n",
        "\n",
        "print(f'Sigmoid MSE Loss: {mse_sigmoid_pca}')"
      ],
      "metadata": {
        "id": "K-HljWIqhmBU",
        "colab": {
          "base_uri": "https://localhost:8080/"
        },
        "outputId": "2a891218-183e-44e8-8cd6-cf3ad950d1b4"
      },
      "execution_count": 8,
      "outputs": [
        {
          "output_type": "stream",
          "name": "stdout",
          "text": [
            "Best K value is:  1\n",
            "Smallest Loss is:  2099300826492.769\n",
            "Polynomial MSE Loss: 3481529091125.8345\n",
            "Linear MSE Loss: 2099300826492.769\n",
            "RBF MSE Loss: 3419160021636.032\n",
            "Sigmoid MSE Loss: 3127729267336.415\n"
          ]
        }
      ]
    },
    {
      "cell_type": "code",
      "source": [
        "#Plotting MSE for different kernalization\n",
        "plt.scatter(1, mse_poly_pca , label = 'Polynomial')\n",
        "plt.scatter(2, mse_linear_pca , label = 'Linear')\n",
        "plt.scatter(3, mse_rbf_pca , label = 'RBF')\n",
        "plt.scatter(4, mse_sigmoid_pca, label = 'Sigmoid')\n",
        "\n",
        "line_colors = ['blue', 'orange', 'green', 'red']\n",
        "\n",
        "# Add vertical lines\n",
        "for x, y, color in zip([1, 2, 3, 4], [mse_poly_pca, mse_linear_pca, mse_rbf_pca, mse_sigmoid_pca], line_colors):\n",
        "    plt.vlines(x, 0, y, colors=color, linestyles='-', alpha=1)\n",
        "\n",
        "plt.legend(loc = 'lower right')\n",
        "plt.title(\"MSE Loss for Different Kernalization Methods\")\n",
        "plt.show()"
      ],
      "metadata": {
        "id": "i-_9z88fmAlx",
        "colab": {
          "base_uri": "https://localhost:8080/",
          "height": 452
        },
        "outputId": "11384501-cedc-4169-8ab8-b7e313becb61"
      },
      "execution_count": 11,
      "outputs": [
        {
          "output_type": "display_data",
          "data": {
            "text/plain": [
              "<Figure size 640x480 with 1 Axes>"
            ],
            "image/png": "[encoded data removed]"
          },
          "metadata": {}
        }
      ]
    }
  ]
}